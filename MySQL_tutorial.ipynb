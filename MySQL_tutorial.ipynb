{
 "cells": [
  {
   "cell_type": "markdown",
   "id": "dfb20437",
   "metadata": {},
   "source": [
    "## I referenced this site for this study: \n",
    "\n",
    "* [git repo](https://www.freecodecamp.org/news/connect-python-with-sql/)\n",
    "\n",
    "* [part 1](https://towardsdatascience.com/designing-a-relational-database-and-creating-an-entity-relationship-diagram-89c1c19320b2)\n",
    "\n",
    "* [part 2](https://towardsdatascience.com/coding-and-implementing-a-relational-database-using-mysql-d9bc69be90f5)\n",
    "\n",
    "* [part 3](https://towardsdatascience.com/data-analysis-in-mysql-operators-joins-and-more-in-relational-databases-26c0a968e61e)\n",
    "\n",
    "in the terminal login with :\n",
    "\n",
    "* mysql -u root -p\n",
    "\n",
    "* CREATE DATABASE school;\n",
    "\n",
    "* USE school;\n",
    "\n",
    "* DROP DATABASE school;"
   ]
  },
  {
   "cell_type": "code",
   "execution_count": 2,
   "id": "c8af85e7",
   "metadata": {},
   "outputs": [],
   "source": [
    "import mysql.connector\n",
    "from mysql.connector import Error\n",
    "import pandas as pd"
   ]
  },
  {
   "cell_type": "markdown",
   "id": "f64c2a82",
   "metadata": {},
   "source": [
    "## Connect to Server , Create Database and connect to the created database"
   ]
  },
  {
   "cell_type": "code",
   "execution_count": 3,
   "id": "25e36b39",
   "metadata": {},
   "outputs": [
    {
     "name": "stdout",
     "output_type": "stream",
     "text": [
      "Error: '1045 (28000): Access denied for user 'root'@'localhost' (using password: YES)'\n"
     ]
    }
   ],
   "source": [
    "def create_server_connection(host_name, user_name, user_password):\n",
    "    \"\"\"makes a connection to mysql db\"\"\"\n",
    "    connection = None\n",
    "    try:\n",
    "        connection = mysql.connector.connect(\n",
    "            host=host_name,\n",
    "            user=user_name,\n",
    "            passwd=user_password\n",
    "        )\n",
    "        print(\"MySQL Database connection successful\")\n",
    "    except Error as err:\n",
    "        print(f\"Error: '{err}'\")\n",
    "\n",
    "    return connection\n",
    "\n",
    "pw = \" \" # IMPORTANT! Put your MySQL Terminal password here.\n",
    "db = \"hospital\" # This is the name of the database we will create in the next step - call it whatever you like.\n",
    "\n",
    "connection = create_server_connection(\"localhost\", \"root\", pw)"
   ]
  },
  {
   "cell_type": "code",
   "execution_count": 8,
   "id": "ac2e6a33",
   "metadata": {},
   "outputs": [
    {
     "name": "stdout",
     "output_type": "stream",
     "text": [
      "Database created successfully\n"
     ]
    }
   ],
   "source": [
    "def create_database(connection, query):\n",
    "    \"\"\"creates the database using the query argument which contains the name of the database\"\"\"\n",
    "    cursor = connection.cursor()\n",
    "    try:\n",
    "        cursor.execute(query)\n",
    "        print(\"Database created successfully\")\n",
    "    except Error as err:\n",
    "        print(f\"Error: '{err}'\")\n",
    "\n",
    "create_database_query = f\"CREATE DATABASE {db}\"\n",
    "create_database(connection, create_database_query)"
   ]
  },
  {
   "cell_type": "code",
   "execution_count": 11,
   "id": "2ba505aa",
   "metadata": {},
   "outputs": [
    {
     "name": "stdout",
     "output_type": "stream",
     "text": [
      "MySQL Database connection successful\n"
     ]
    }
   ],
   "source": [
    "def create_db_connection(host_name, user_name, user_password, db_name):\n",
    "    \"\"\"this function automatically connect to db of interest which we have already created\"\"\"\n",
    "    connection = None\n",
    "    try:\n",
    "        connection = mysql.connector.connect(\n",
    "            host=host_name,\n",
    "            user=user_name,\n",
    "            passwd=user_password,\n",
    "            database=db_name\n",
    "        )\n",
    "        print(\"MySQL Database connection successful\")\n",
    "    except Error as err:\n",
    "        print(f\"Error: '{err}'\")\n",
    "\n",
    "    return connection\n",
    "\n",
    "db = \"hospital\" \n",
    "connection = create_db_connection(\"localhost\", \"root\", pw, db)"
   ]
  },
  {
   "cell_type": "markdown",
   "id": "da393c03",
   "metadata": {},
   "source": [
    "## Create tables in the database"
   ]
  },
  {
   "cell_type": "code",
   "execution_count": 13,
   "id": "530be6ce",
   "metadata": {},
   "outputs": [],
   "source": [
    "def execute_query(connection, query):\n",
    "    \"\"\"takes a querry like creating tables and populating them\"\"\"\n",
    "    cursor = connection.cursor()\n",
    "    try:\n",
    "        cursor.execute(query)\n",
    "        connection.commit()\n",
    "        print(\"Query successful\")\n",
    "    except Error as err:\n",
    "        print(f\"Error: '{err}'\")"
   ]
  },
  {
   "cell_type": "code",
   "execution_count": 14,
   "id": "e75e9c5c",
   "metadata": {},
   "outputs": [
    {
     "name": "stdout",
     "output_type": "stream",
     "text": [
      "Query successful\n"
     ]
    }
   ],
   "source": [
    "#PRIMARY KEY uniquely identifies each row in the table and prevents duplication\n",
    "create_teacher_table = \"\"\"\n",
    "CREATE TABLE doctor (\n",
    "  doctor_id INT PRIMARY KEY,\n",
    "  first_name VARCHAR(40) NOT NULL,\n",
    "  last_name VARCHAR(40) NOT NULL,\n",
    "  language_1 VARCHAR(3) NOT NULL,\n",
    "  language_2 VARCHAR(3),\n",
    "  dob DATE,\n",
    "  tax_id INT UNIQUE,\n",
    "  phone_no VARCHAR(20)\n",
    "  );\n",
    " \"\"\"\n",
    "\n",
    "execute_query(connection, create_teacher_table) # Execute our defined query\n",
    "#Use the command in the terminal to probe the table : SHOW TABLES"
   ]
  },
  {
   "cell_type": "code",
   "execution_count": 15,
   "id": "b90a01f9",
   "metadata": {},
   "outputs": [
    {
     "name": "stdout",
     "output_type": "stream",
     "text": [
      "MySQL Database connection successful\n",
      "Query successful\n",
      "Query successful\n",
      "Query successful\n"
     ]
    }
   ],
   "source": [
    "create_client_table = \"\"\"\n",
    "CREATE TABLE client (\n",
    "  client_id INT PRIMARY KEY,\n",
    "  client_name VARCHAR(40) NOT NULL,\n",
    "  address VARCHAR(60) NOT NULL,\n",
    "  industry VARCHAR(20)\n",
    ");\n",
    " \"\"\"\n",
    "\n",
    "create_participant_table = \"\"\"\n",
    "CREATE TABLE participant (\n",
    "  participant_id INT PRIMARY KEY,\n",
    "  first_name VARCHAR(40) NOT NULL,\n",
    "  last_name VARCHAR(40) NOT NULL,\n",
    "  phone_no VARCHAR(20),\n",
    "  client INT\n",
    ");\n",
    "\"\"\"\n",
    "\n",
    "create_course_table = \"\"\"\n",
    "CREATE TABLE course (\n",
    "  course_id INT PRIMARY KEY,\n",
    "  course_name VARCHAR(40) NOT NULL,\n",
    "  language VARCHAR(3) NOT NULL,\n",
    "  level VARCHAR(2),\n",
    "  course_length_weeks INT,\n",
    "  start_date DATE,\n",
    "  in_school BOOLEAN,\n",
    "  teacher INT,\n",
    "  client INT\n",
    ");\n",
    "\"\"\"\n",
    "\n",
    "\n",
    "connection = create_db_connection(\"localhost\", \"root\", pw, db)\n",
    "execute_query(connection, create_client_table)\n",
    "execute_query(connection, create_participant_table)\n",
    "execute_query(connection, create_course_table)"
   ]
  },
  {
   "cell_type": "code",
   "execution_count": 17,
   "id": "5c026a31",
   "metadata": {},
   "outputs": [
    {
     "name": "stdout",
     "output_type": "stream",
     "text": [
      "Query successful\n"
     ]
    }
   ],
   "source": [
    "create_composite = \"\"\"CREATE TABLE takes_course (\n",
    "  participant_id INT,\n",
    "  course_id INT,\n",
    "  PRIMARY KEY(participant_id, course_id),\n",
    "  FOREIGN KEY(participant_id) REFERENCES participant(participant_id) ON DELETE CASCADE,\n",
    "  FOREIGN KEY(course_id) REFERENCES course(course_id) ON DELETE CASCADE\n",
    ");\"\"\"\n",
    "\n",
    "execute_query(connection, create_composite)"
   ]
  },
  {
   "cell_type": "code",
   "execution_count": 16,
   "id": "8eb249bc",
   "metadata": {},
   "outputs": [
    {
     "name": "stdout",
     "output_type": "stream",
     "text": [
      "MySQL Database connection successful\n",
      "Query successful\n",
      "Query successful\n",
      "Query successful\n",
      "Query successful\n",
      "Error: '1146 (42S02): Table 'hospital.takes_course' doesn't exist'\n"
     ]
    }
   ],
   "source": [
    "pop_doctor = \"\"\"\n",
    "INSERT INTO doctor VALUES\n",
    "(1,  'James', 'Smith', 'ENG', NULL, '1985-04-20', 12345, '+491774553676'),\n",
    "(2, 'Stefanie',  'Martin',  'FRA', NULL,  '1970-02-17', 23456, '+491234567890'), \n",
    "(3, 'Steve', 'Wang',  'MAN', 'ENG', '1990-11-12', 34567, '+447840921333'),\n",
    "(4, 'Friederike',  'Müller-Rossi', 'DEU', 'ITA', '1987-07-07',  45678, '+492345678901'),\n",
    "(5, 'Isobel', 'Ivanova', 'RUS', 'ENG', '1963-05-30',  56789, '+491772635467'),\n",
    "(6, 'Niamh', 'Murphy', 'ENG', 'IRI', '1995-09-08',  67890, '+491231231232');\n",
    "\"\"\"\n",
    "pop_client = \"\"\"\n",
    "INSERT INTO client VALUES\n",
    "(101, 'Big Business Federation', '123 Falschungstraße, 10999 Berlin', 'NGO'),\n",
    "(102, 'eCommerce GmbH', '27 Ersatz Allee, 10317 Berlin', 'Retail'),\n",
    "(103, 'AutoMaker AG',  '20 Künstlichstraße, 10023 Berlin', 'Auto'),\n",
    "(104, 'Banko Bank',  '12 Betrugstraße, 12345 Berlin', 'Banking'),\n",
    "(105, 'WeMoveIt GmbH', '138 Arglistweg, 10065 Berlin', 'Logistics');\n",
    "\"\"\"\n",
    "\n",
    "pop_participant = \"\"\"\n",
    "INSERT INTO participant VALUES\n",
    "(101, 'Marina', 'Berg','491635558182', 101),\n",
    "(102, 'Andrea', 'Duerr', '49159555740', 101),\n",
    "(103, 'Philipp', 'Probst',  '49155555692', 102),\n",
    "(104, 'René',  'Brandt',  '4916355546',  102),\n",
    "(105, 'Susanne', 'Shuster', '49155555779', 102),\n",
    "(106, 'Christian', 'Schreiner', '49162555375', 101),\n",
    "(107, 'Harry', 'Kim', '49177555633', 101),\n",
    "(108, 'Jan', 'Nowak', '49151555824', 101),\n",
    "(109, 'Pablo', 'Garcia',  '49162555176', 101),\n",
    "(110, 'Melanie', 'Dreschler', '49151555527', 103),\n",
    "(111, 'Dieter', 'Durr',  '49178555311', 103),\n",
    "(112, 'Max', 'Mustermann', '49152555195', 104),\n",
    "(113, 'Maxine', 'Mustermann', '49177555355', 104),\n",
    "(114, 'Heiko', 'Fleischer', '49155555581', 105);\n",
    "\"\"\"\n",
    "\n",
    "pop_course = \"\"\"\n",
    "INSERT INTO course VALUES\n",
    "(12, 'English for Logistics', 'ENG', 'A1', 10, '2020-02-01', TRUE,  1, 105),\n",
    "(13, 'Beginner English', 'ENG', 'A2', 40, '2019-11-12',  FALSE, 6, 101),\n",
    "(14, 'Intermediate English', 'ENG', 'B2', 40, '2019-11-12', FALSE, 6, 101),\n",
    "(15, 'Advanced English', 'ENG', 'C1', 40, '2019-11-12', FALSE, 6, 101),\n",
    "(16, 'Mandarin für Autoindustrie', 'MAN', 'B1', 15, '2020-01-15', TRUE, 3, 103),\n",
    "(17, 'Français intermédiaire', 'FRA', 'B1',  18, '2020-04-03', FALSE, 2, 101),\n",
    "(18, 'Deutsch für Anfänger', 'DEU', 'A2', 8, '2020-02-14', TRUE, 4, 102),\n",
    "(19, 'Intermediate English', 'ENG', 'B2', 10, '2020-03-29', FALSE, 1, 104),\n",
    "(20, 'Fortgeschrittenes Russisch', 'RUS', 'C1',  4, '2020-04-08',  FALSE, 5, 103);\n",
    "\"\"\"\n",
    "\n",
    "pop_takescourse = \"\"\"\n",
    "INSERT INTO takes_course VALUES\n",
    "(101, 15),\n",
    "(101, 17),\n",
    "(102, 17),\n",
    "(103, 18),\n",
    "(104, 18),\n",
    "(105, 18),\n",
    "(106, 13),\n",
    "(107, 13),\n",
    "(108, 13),\n",
    "(109, 14),\n",
    "(109, 15),\n",
    "(110, 16),\n",
    "(110, 20),\n",
    "(111, 16),\n",
    "(114, 12),\n",
    "(112, 19),\n",
    "(113, 19);\n",
    "\"\"\"\n",
    "\n",
    "connection = create_db_connection(\"localhost\", \"root\", pw, db)\n",
    "execute_query(connection, pop_doctor)\n",
    "execute_query(connection, pop_client)\n",
    "execute_query(connection, pop_participant)\n",
    "execute_query(connection, pop_course)\n"
   ]
  },
  {
   "cell_type": "code",
   "execution_count": 18,
   "id": "0eec520b",
   "metadata": {},
   "outputs": [
    {
     "name": "stdout",
     "output_type": "stream",
     "text": [
      "Query successful\n"
     ]
    }
   ],
   "source": [
    "execute_query(connection, pop_takescourse)"
   ]
  },
  {
   "cell_type": "markdown",
   "id": "bc9d9e75",
   "metadata": {},
   "source": [
    "## Reading data"
   ]
  },
  {
   "cell_type": "code",
   "execution_count": 21,
   "id": "aa4028fa",
   "metadata": {},
   "outputs": [],
   "source": [
    "def read_query(connection, query):\n",
    "    \"\"\"executes a querry and retrieve data from the database\"\"\"\n",
    "    cursor = connection.cursor()\n",
    "    result = None\n",
    "    try:\n",
    "        cursor.execute(query)\n",
    "        result = cursor.fetchall()\n",
    "        return result\n",
    "    except Error as err:\n",
    "        print(f\"Error: '{err}'\")"
   ]
  },
  {
   "cell_type": "code",
   "execution_count": 37,
   "id": "fc5a5e42",
   "metadata": {},
   "outputs": [
    {
     "name": "stdout",
     "output_type": "stream",
     "text": [
      "[(12, 'English for Logistics', 'ENG', 'A1', 10, datetime.date(2020, 2, 1), 1, 1, 105), (13, 'Beginner English', 'ENG', 'A2', 40, datetime.date(2019, 11, 12), 0, 6, 101), (14, 'Intermediate English', 'ENG', 'B2', 40, datetime.date(2019, 11, 12), 0, 6, 101), (15, 'Advanced English', 'ENG', 'C1', 40, datetime.date(2019, 11, 12), 0, 6, 101), (16, 'Mandarin für Autoindustrie', 'MAN', 'B1', 15, datetime.date(2020, 1, 15), 1, 3, 103), (17, 'Français intermédiaire', 'FRA', 'B1', 18, datetime.date(2020, 4, 3), 0, 2, 101), (18, 'Deutsch für Anfänger', 'DEU', 'A2', 8, datetime.date(2020, 2, 14), 1, 4, 102), (19, 'Intermediate English', 'ENG', 'B2', 10, datetime.date(2020, 3, 29), 0, 1, 104), (20, 'Fortgeschrittenes Russisch', 'RUS', 'C1', 4, datetime.date(2020, 4, 8), 0, 5, 103)]\n"
     ]
    }
   ],
   "source": [
    "q1 = \"\"\"\n",
    "SELECT *\n",
    "FROM doctor;\n",
    "\"\"\"\n",
    "q2 = \"\"\"\n",
    "SELECT *\n",
    "FROM course\n",
    "WHERE language = 'ENG'\n",
    "ORDER BY start_date DESC;\n",
    "\"\"\"\n",
    "\n",
    "q3 = \"\"\"\n",
    "SELECT first_name, last_name, phone_no\n",
    "FROM doctor\n",
    "WHERE dob < '1990-01-01';\n",
    "\"\"\"\n",
    "\n",
    "q4 = \"\"\"\n",
    "SELECT course.course_id, course.course_name, course.language, client.client_name, client.address\n",
    "FROM course\n",
    "JOIN client\n",
    "ON course.client = client.client_id\n",
    "WHERE course.in_school = FALSE;\n",
    "\"\"\"\n",
    "\n",
    "q5 = \"\"\"\n",
    "SELECT *\n",
    "FROM course;\n",
    "\"\"\"\n",
    "\n",
    "results = read_query(connection, q5)\n",
    "print(results)\n"
   ]
  },
  {
   "cell_type": "code",
   "execution_count": 38,
   "id": "2eac8844",
   "metadata": {},
   "outputs": [
    {
     "name": "stdout",
     "output_type": "stream",
     "text": [
      "(12, 'English for Logistics', 'ENG', 'A1', 10, datetime.date(2020, 2, 1), 1, 1, 105)\n",
      "(13, 'Beginner English', 'ENG', 'A2', 40, datetime.date(2019, 11, 12), 0, 6, 101)\n",
      "(14, 'Intermediate English', 'ENG', 'B2', 40, datetime.date(2019, 11, 12), 0, 6, 101)\n",
      "(15, 'Advanced English', 'ENG', 'C1', 40, datetime.date(2019, 11, 12), 0, 6, 101)\n",
      "(16, 'Mandarin für Autoindustrie', 'MAN', 'B1', 15, datetime.date(2020, 1, 15), 1, 3, 103)\n",
      "(17, 'Français intermédiaire', 'FRA', 'B1', 18, datetime.date(2020, 4, 3), 0, 2, 101)\n",
      "(18, 'Deutsch für Anfänger', 'DEU', 'A2', 8, datetime.date(2020, 2, 14), 1, 4, 102)\n",
      "(19, 'Intermediate English', 'ENG', 'B2', 10, datetime.date(2020, 3, 29), 0, 1, 104)\n",
      "(20, 'Fortgeschrittenes Russisch', 'RUS', 'C1', 4, datetime.date(2020, 4, 8), 0, 5, 103)\n"
     ]
    }
   ],
   "source": [
    "for result in results:\n",
    "    print(result)"
   ]
  },
  {
   "cell_type": "code",
   "execution_count": 34,
   "id": "7b50d379",
   "metadata": {},
   "outputs": [
    {
     "data": {
      "text/html": [
       "<div>\n",
       "<style scoped>\n",
       "    .dataframe tbody tr th:only-of-type {\n",
       "        vertical-align: middle;\n",
       "    }\n",
       "\n",
       "    .dataframe tbody tr th {\n",
       "        vertical-align: top;\n",
       "    }\n",
       "\n",
       "    .dataframe thead th {\n",
       "        text-align: right;\n",
       "    }\n",
       "</style>\n",
       "<table border=\"1\" class=\"dataframe\">\n",
       "  <thead>\n",
       "    <tr style=\"text-align: right;\">\n",
       "      <th></th>\n",
       "      <th>course_id</th>\n",
       "      <th>course_name</th>\n",
       "      <th>language</th>\n",
       "      <th>client_name</th>\n",
       "      <th>address</th>\n",
       "    </tr>\n",
       "  </thead>\n",
       "  <tbody>\n",
       "    <tr>\n",
       "      <th>0</th>\n",
       "      <td>13</td>\n",
       "      <td>Beginner English</td>\n",
       "      <td>ENG</td>\n",
       "      <td>Big Business Federation</td>\n",
       "      <td>123 Falschungstraße, 10999 Berlin</td>\n",
       "    </tr>\n",
       "    <tr>\n",
       "      <th>1</th>\n",
       "      <td>14</td>\n",
       "      <td>Intermediate English</td>\n",
       "      <td>ENG</td>\n",
       "      <td>Big Business Federation</td>\n",
       "      <td>123 Falschungstraße, 10999 Berlin</td>\n",
       "    </tr>\n",
       "    <tr>\n",
       "      <th>2</th>\n",
       "      <td>15</td>\n",
       "      <td>Advanced English</td>\n",
       "      <td>ENG</td>\n",
       "      <td>Big Business Federation</td>\n",
       "      <td>123 Falschungstraße, 10999 Berlin</td>\n",
       "    </tr>\n",
       "    <tr>\n",
       "      <th>3</th>\n",
       "      <td>17</td>\n",
       "      <td>Français intermédiaire</td>\n",
       "      <td>FRA</td>\n",
       "      <td>Big Business Federation</td>\n",
       "      <td>123 Falschungstraße, 10999 Berlin</td>\n",
       "    </tr>\n",
       "    <tr>\n",
       "      <th>4</th>\n",
       "      <td>19</td>\n",
       "      <td>Intermediate English</td>\n",
       "      <td>ENG</td>\n",
       "      <td>Banko Bank</td>\n",
       "      <td>12 Betrugstraße, 12345 Berlin</td>\n",
       "    </tr>\n",
       "  </tbody>\n",
       "</table>\n",
       "</div>"
      ],
      "text/plain": [
       "   course_id             course_name language              client_name  \\\n",
       "0         13        Beginner English      ENG  Big Business Federation   \n",
       "1         14    Intermediate English      ENG  Big Business Federation   \n",
       "2         15        Advanced English      ENG  Big Business Federation   \n",
       "3         17  Français intermédiaire      FRA  Big Business Federation   \n",
       "4         19    Intermediate English      ENG               Banko Bank   \n",
       "\n",
       "                             address  \n",
       "0  123 Falschungstraße, 10999 Berlin  \n",
       "1  123 Falschungstraße, 10999 Berlin  \n",
       "2  123 Falschungstraße, 10999 Berlin  \n",
       "3  123 Falschungstraße, 10999 Berlin  \n",
       "4      12 Betrugstraße, 12345 Berlin  "
      ]
     },
     "execution_count": 34,
     "metadata": {},
     "output_type": "execute_result"
    }
   ],
   "source": [
    "# Returns a list of lists and then creates a pandas DataFrame\n",
    "from_db = []\n",
    "\n",
    "for result in results:\n",
    "  result = list(result)\n",
    "  from_db.append(result)\n",
    "\n",
    "\n",
    "columns = [\"course_id\", \"course_name\", \"language\", \"client_name\", \"address\"]\n",
    "df = pd.DataFrame(from_db, columns=columns)\n",
    "\n",
    "df.head()"
   ]
  },
  {
   "cell_type": "markdown",
   "id": "145650a1",
   "metadata": {},
   "source": [
    "## Update records"
   ]
  },
  {
   "cell_type": "code",
   "execution_count": 35,
   "id": "031598f6",
   "metadata": {},
   "outputs": [
    {
     "name": "stdout",
     "output_type": "stream",
     "text": [
      "Query successful\n"
     ]
    }
   ],
   "source": [
    "update = \"\"\"\n",
    "UPDATE client \n",
    "SET address = '23 Fingiertweg, 14534 Berlin' \n",
    "WHERE client_id = 101;\n",
    "\"\"\"\n",
    "\n",
    "execute_query(connection, update)"
   ]
  },
  {
   "cell_type": "code",
   "execution_count": 36,
   "id": "5413cb16",
   "metadata": {},
   "outputs": [
    {
     "name": "stdout",
     "output_type": "stream",
     "text": [
      "[(101, 'Big Business Federation', '23 Fingiertweg, 14534 Berlin', 'NGO')]\n"
     ]
    }
   ],
   "source": [
    "q6 = \"\"\"\n",
    "SELECT *\n",
    "FROM client\n",
    "WHERE client_id = 101;\n",
    "\"\"\"\n",
    "\n",
    "results = read_query(connection, q6)\n",
    "print(results)"
   ]
  },
  {
   "cell_type": "code",
   "execution_count": 40,
   "id": "81d18368",
   "metadata": {},
   "outputs": [
    {
     "name": "stdout",
     "output_type": "stream",
     "text": [
      "Query successful\n",
      "(12, 'English for Logistics', 'ENG', 'A1', 10, datetime.date(2020, 2, 1), 1, 1, 105)\n",
      "(13, 'Beginner English', 'ENG', 'A2', 40, datetime.date(2019, 11, 12), 0, 6, 101)\n",
      "(14, 'Intermediate English', 'ENG', 'B2', 40, datetime.date(2019, 11, 12), 0, 6, 101)\n",
      "(15, 'Advanced English', 'ENG', 'C1', 40, datetime.date(2019, 11, 12), 0, 6, 101)\n",
      "(16, 'Mandarin für Autoindustrie', 'MAN', 'B1', 15, datetime.date(2020, 1, 15), 1, 3, 103)\n",
      "(17, 'Français intermédiaire', 'FRA', 'B1', 18, datetime.date(2020, 4, 3), 0, 2, 101)\n",
      "(18, 'Deutsch für Anfänger', 'DEU', 'A2', 8, datetime.date(2020, 2, 14), 1, 4, 102)\n",
      "(19, 'Intermediate English', 'ENG', 'B2', 10, datetime.date(2020, 3, 29), 0, 1, 104)\n"
     ]
    }
   ],
   "source": [
    "delete_course = \"\"\"\n",
    "DELETE FROM course WHERE course_id = 20;\n",
    "\"\"\"\n",
    "\n",
    "execute_query(connection, delete_course)\n",
    "\n",
    "results = read_query(connection, q5)\n",
    "\n",
    "from_db = []\n",
    "\n",
    "for result in results:\n",
    "    print(result)\n"
   ]
  },
  {
   "cell_type": "code",
   "execution_count": 41,
   "id": "b2d90e12",
   "metadata": {},
   "outputs": [
    {
     "name": "stdout",
     "output_type": "stream",
     "text": [
      "Query successful\n",
      "(12, 'English for Logistics', 'ENG', 'A1', 10, datetime.date(2020, 2, 1), 1, 1, 105)\n",
      "(13, 'Beginner English', 'ENG', 'A2', 40, datetime.date(2019, 11, 12), 0, 6, 101)\n",
      "(14, 'Intermediate English', 'ENG', 'B2', 40, datetime.date(2019, 11, 12), 0, 6, 101)\n",
      "(15, 'Advanced English', 'ENG', 'C1', 40, datetime.date(2019, 11, 12), 0, 6, 101)\n",
      "(16, 'Mandarin für Autoindustrie', 'MAN', 'B1', 15, datetime.date(2020, 1, 15), 1, 3, 103)\n",
      "(17, 'Français intermédiaire', 'FRA', 'B1', 18, datetime.date(2020, 4, 3), 0, 2, 101)\n",
      "(18, 'Deutsch für Anfänger', 'DEU', 'A2', 8, datetime.date(2020, 2, 14), 1, 4, 102)\n",
      "(19, 'Intermediate English', 'ENG', 'B2', 10, datetime.date(2020, 3, 29), 0, 1, 104)\n",
      "(20, 'Fortgeschrittenes Russisch', 'RUS', 'C1', 4, datetime.date(2020, 4, 8), 0, 5, 103)\n"
     ]
    }
   ],
   "source": [
    "restore_russian = \"\"\"\n",
    "INSERT INTO course VALUES\n",
    "(20, 'Fortgeschrittenes Russisch', 'RUS', 'C1',  4, '2020-04-08',  FALSE, 5, 103);\n",
    "\"\"\"\n",
    "\n",
    "execute_query(connection, restore_russian)\n",
    "\n",
    "results = read_query(connection, q5)\n",
    "\n",
    "for result in results:\n",
    "    print(result)"
   ]
  },
  {
   "cell_type": "markdown",
   "id": "9189a498",
   "metadata": {},
   "source": [
    "## Adding a list to database"
   ]
  },
  {
   "cell_type": "code",
   "execution_count": 43,
   "id": "627c62ba",
   "metadata": {},
   "outputs": [],
   "source": [
    "def execute_list_query(connection, sql, val):\n",
    "    cursor = connection.cursor()\n",
    "    try:\n",
    "        cursor.executemany(sql, val)\n",
    "        connection.commit()\n",
    "        print(\"Query successful\")\n",
    "    except Error as err:\n",
    "        print(f\"Error: '{err}'\")\n"
   ]
  },
  {
   "cell_type": "code",
   "execution_count": 44,
   "id": "b59c6dc3",
   "metadata": {},
   "outputs": [
    {
     "name": "stdout",
     "output_type": "stream",
     "text": [
      "Query successful\n"
     ]
    }
   ],
   "source": [
    "sql = '''\n",
    "    INSERT INTO doctor (doctor_id, first_name, last_name, language_1, language_2, dob, tax_id, phone_no) \n",
    "    VALUES (%s, %s, %s, %s, %s, %s, %s, %s)\n",
    "    '''\n",
    "val = [\n",
    "    (7, 'Hank', 'Dodson', 'ENG', None, '1991-12-23', 11111, '+491772345678'), \n",
    "    (8, 'Sue', 'Perkins', 'MAN', 'ENG', '1976-02-02', 22222, '+491443456432')\n",
    "]\n",
    "\n",
    "\n",
    "execute_list_query(connection, sql, val)"
   ]
  },
  {
   "cell_type": "code",
   "execution_count": 45,
   "id": "be2ed6e0",
   "metadata": {},
   "outputs": [
    {
     "name": "stdout",
     "output_type": "stream",
     "text": [
      "(1, 'James', 'Smith', 'ENG', None, datetime.date(1985, 4, 20), 12345, '+491774553676')\n",
      "(2, 'Stefanie', 'Martin', 'FRA', None, datetime.date(1970, 2, 17), 23456, '+491234567890')\n",
      "(3, 'Steve', 'Wang', 'MAN', 'ENG', datetime.date(1990, 11, 12), 34567, '+447840921333')\n",
      "(4, 'Friederike', 'Müller-Rossi', 'DEU', 'ITA', datetime.date(1987, 7, 7), 45678, '+492345678901')\n",
      "(5, 'Isobel', 'Ivanova', 'RUS', 'ENG', datetime.date(1963, 5, 30), 56789, '+491772635467')\n",
      "(6, 'Niamh', 'Murphy', 'ENG', 'IRI', datetime.date(1995, 9, 8), 67890, '+491231231232')\n",
      "(7, 'Hank', 'Dodson', 'ENG', None, datetime.date(1991, 12, 23), 11111, '+491772345678')\n",
      "(8, 'Sue', 'Perkins', 'MAN', 'ENG', datetime.date(1976, 2, 2), 22222, '+491443456432')\n"
     ]
    }
   ],
   "source": [
    "results = read_query(connection, q1)\n",
    "\n",
    "for result in results:\n",
    "    print(result)"
   ]
  },
  {
   "cell_type": "markdown",
   "id": "08fbddf1",
   "metadata": {},
   "source": [
    "# Query syntax\n",
    "\n",
    "SQL Statements are used for interacting with Entities (that is, tables), Attributes (that is, columns) and their tuples (or rows with data values) in relational databases. SQL statements fall into two different categories: Data Definition Language statements and Data Manipulation Language statements. Data Definition Language (or DDL) statements are used to define, change, or drop database objects such as tables. Common DDL statement types include CREATE, ALTER, TRUNCATE, and DROP. CREATE: which is used for creating tables and defining its columns; ALTER: is used for altering tables including adding and dropping columns and modifying their datatypes; TRUNCATE: is used for deleting data in a table but not the table itself; DROP: is used for deleting tables. Data Manipulation Language (or DML) statements are used to read and modify data in tables. These are also sometimes referred to as CRUD operations, that is, Create, Read, Update and Delete rows in a table. Common DML statement types include INSERT, SELECT, UPDATE, and DELETE. INSERT: is used for inserting a row or several rows of data into a table; SELECT: reads or selects row or rows from a table; UPDATE: edits row or rows in a table; And DELETE: removes a row or rows of data from a table. Now you know that: DDL or Data Definition Language statements are used for defining or changing objects in a database such as tables. And DML or Data Manipulation Language statements are used for manipulating or working with data in tables. "
   ]
  },
  {
   "cell_type": "markdown",
   "id": "dc9bc58e",
   "metadata": {},
   "source": [
    "## Data Definition Language (or DDL): CREATE, ALTER, TRUNCATE, and DROP"
   ]
  },
  {
   "cell_type": "code",
   "execution_count": null,
   "id": "bd58cd36",
   "metadata": {},
   "outputs": [],
   "source": [
    "#creates a new entity or table\n",
    "CREATE TABLE table_name (\n",
    "    column1 datatype,\n",
    "    column2 datatype,\n",
    "    column3 datatype,\n",
    "   ....\n",
    ");\n",
    "\n",
    "CREATE TABLE PETSALE (\n",
    "    ID INTEGER NOT NULL,\n",
    "    PET CHAR(20),\n",
    "    SALEPRICE DECIMAL(6,2),\n",
    "    PROFIT DECIMAL(6,2),\n",
    "    SALEDATE DATE\n",
    "    );\n",
    "    \n",
    "CREATE TABLE PET (\n",
    "    ID INTEGER NOT NULL,\n",
    "    ANIMAL VARCHAR(20),\n",
    "    QUANTITY INTEGER\n",
    "    );\n",
    "    \n",
    "INSERT INTO PETSALE VALUES\n",
    "    (1,'Cat',450.09,100.47,'2018-05-29'),\n",
    "    (2,'Dog',666.66,150.76,'2018-06-01'),\n",
    "    (3,'Parrot',50.00,8.9,'2018-06-04'),\n",
    "    (4,'Hamster',60.60,12,'2018-06-11'),\n",
    "    (5,'Goldfish',48.48,3.5,'2018-06-14');\n",
    "    \n",
    "INSERT INTO PET VALUES\n",
    "    (1,'Cat',3),\n",
    "    (2,'Dog',4),\n",
    "    (3,'Hamster',2);\n",
    "    \n",
    "SELECT * FROM PETSALE;\n",
    "SELECT * FROM PET;\n",
    "\n",
    "ALTER TABLE PETSALE\n",
    "ADD COLUMN QUANTITY INTEGER;\n",
    "\n",
    "SELECT * FROM PETSALE;\n",
    "\n",
    "#Now update the newly added QUANTITY column of the PETSALE table with some values and show all the records of the table. \n",
    "UPDATE PETSALE SET QUANTITY = 9 WHERE ID = 1;\n",
    "UPDATE PETSALE SET QUANTITY = 3 WHERE ID = 2;\n",
    "UPDATE PETSALE SET QUANTITY = 2 WHERE ID = 3;\n",
    "UPDATE PETSALE SET QUANTITY = 6 WHERE ID = 4;\n",
    "UPDATE PETSALE SET QUANTITY = 24 WHERE ID = 5;\n",
    "\n",
    "SELECT * FROM PETSALE;\n",
    "\n",
    "#Delete the PROFIT column from the PETSALE table and show the altered table\n",
    "ALTER TABLE PETSALE\n",
    "DROP COLUMN PROFIT;\n",
    "\n",
    "SELECT * FROM PETSALE;\n",
    "\n",
    "#Change the data type to VARCHAR(20) type of the column PET of the table PETSALE and show the altered table. \n",
    "ALTER TABLE PETSALE\n",
    "ALTER COLUMN PET SET DATA TYPE VARCHAR(20);\n",
    "\n",
    "SELECT * FROM PETSALE;\n",
    "\n",
    "ALTER TABLE PETSALE\n",
    "RENAME COLUMN PET TO ANIMAL;\n",
    "\n",
    "SELECT * FROM PETSALE;\n",
    "\n",
    "\n",
    "TRUNCATE TABLE PET IMMEDIATE;\n",
    "\n",
    "SELECT * FROM PET;\n",
    "\n",
    "DROP TABLE PET;\n",
    "\n",
    "SELECT * FROM PET;\n",
    "\n",
    "###  ALTER TABLE statement to add or remove columns from a table, to modify the data type of columns, \n",
    "#to add or remove keys, and to add or remove constraints. \n",
    "\n",
    "ALTER TABLE table_name\n",
    "ADD COLUMN column_name data_type column_constraint;\n",
    "\n",
    "ALTER TABLE table_name\n",
    "DROP COLUMN column_name;\n",
    "\n",
    "ALTER TABLE table_name\n",
    "ALTER COLUMN column_name SET DATA TYPE data_type;\n",
    "\n",
    "ALTER TABLE table_name\n",
    "RENAME COLUMN current_column_name TO new_column_name;\n",
    "\n",
    "#delete all rows in the existing database\n",
    "TRUNCATE TABLE table_name;\n",
    "\n",
    "#delete a table\n",
    "DROP TABLE table_name;"
   ]
  },
  {
   "cell_type": "markdown",
   "id": "9725a35b",
   "metadata": {},
   "source": [
    "## Data Manipulation Language (or DML) : INSERT, SELECT, UPDATE, and DELETE"
   ]
  },
  {
   "cell_type": "code",
   "execution_count": 19,
   "id": "729ff8f7",
   "metadata": {},
   "outputs": [],
   "source": [
    "# to view the tables use the: \n",
    "#select all columns\n",
    "SELECT * FROM doctor;  \n",
    "\n",
    "#slelect some columns \n",
    "SELECT last_name, dob FROM doctor;\n",
    "\n",
    "#with condition use: \n",
    "\n",
    "SELECT * FROM course WHERE language = 'ENG'; \n",
    "\n",
    "SELECT * FROM course WHERE language = 'ENG'ORDER BY start_date;\n",
    "\n",
    "#with operators: \n",
    "SELECT * FROM course WHERE language = 'ENG' AND level = 'C1'; \n",
    "SELECT * FROM course WHERE language = 'ENG' OR level = 'C1';\n",
    "SELECT first_name, last_name, phone_no FROM teacher WHERE dob < '1990-01-01';\n",
    "SELECT * FROM course WHERE start_date BETWEEN '2020-01-01' AND '2020-01-31';\n",
    "\n",
    "#retrieves the number of rows matching the query criteria\n",
    "SELEC COUNT(*) from doctor;\n",
    "SELEC COUNT(COUNTRY) from doctor WHERE COUNTRY='GHANA';\n",
    "\n",
    "#retrieve uniques valies in a column\n",
    "SELECT DISTINCT columnname FROM tablename;\n",
    "SELECT COUNT(DISTINCT ReleaseYear) FROM FilmLocations WHERE ProductionCompany=\"Warner Bros. Pictures\";\n",
    "SELECT DISTINCT Title, ReleaseYear FROM FilmLocations WHERE ReleaseYear>=2001;\n",
    "SELECT DISTINCT Title, Director FROM FilmLocations WHERE Locations=\"City Hall\";\n",
    "\n",
    "#retrieve some number ofrows \n",
    "SELECT * from tablename LIMIT 10;\n",
    "SELECT * from tablename WHERE COUNTRY='GHANA' LIMIT 10;\n",
    "SELECT * FROM FilmLocations LIMIT 25;\n",
    "#This time we want to retrieve a specific number of rows starting from a specific row in the table.\n",
    "SELECT * FROM FilmLocations LIMIT 15 OFFSET 10;\n",
    "SELECT DISTINCT Title FROM FilmLocations LIMIT 50;\n",
    "SELECT DISTINCT Title FROM FilmLocations WHERE ReleaseYear=2015 LIMIT 10;\n",
    "SELECT DISTINCT Title FROM FilmLocations WHERE ReleaseYear=2015 LIMIT 3 OFFSET 5;\n",
    "\n",
    "\n",
    "#INSERT \n",
    "\n",
    "INSERT INTO table_name (column1, column2, ... )\n",
    "VALUES (value1, value2, ... );\n",
    "\n",
    "INSERT INTO Instructor(ins_id, lastname, firstname, city, country)\n",
    "VALUES(4, 'Saha', 'Sandip', 'Edmonton', 'CA');\n",
    "\n",
    "##UPDATE \n",
    "UPDATE table_name\n",
    "SET column1 = value1, column2 = value2, ...\n",
    "WHERE condition;\n",
    "\n",
    "UPDATE Instructor \n",
    "SET city='Toronto' \n",
    "WHERE firstname=\"Sandip\";\n",
    "\n",
    "UPDATE Instructor \n",
    "SET city='Dubai', country='AE' \n",
    "WHERE ins_id=5;\n",
    "\n",
    "#DELETE\n",
    "DELETE FROM table_name\n",
    "WHERE condition;\n",
    "\n",
    "DELETE FROM instructor\n",
    "WHERE ins_id = 6;\n",
    "\n",
    "\n",
    "\n",
    "\n",
    "\n",
    "###########\n",
    "SELECT F_NAME , L_NAME\n",
    "FROM EMPLOYEES\n",
    "WHERE ADDRESS LIKE '%Elgin,IL%';\n",
    "\n",
    "SELECT F_NAME , L_NAME\n",
    "FROM EMPLOYEES\n",
    "WHERE B_DATE LIKE '197%';\n",
    "\n",
    "SELECT *\n",
    "FROM EMPLOYEES\n",
    "WHERE (SALARY BETWEEN 60000 AND 70000) AND DEP_ID = 5;\n",
    "\n",
    "#Retrieve a list of employees ordered by department ID.\n",
    "SELECT F_NAME, L_NAME, DEP_ID \n",
    "FROM EMPLOYEES\n",
    "ORDER BY DEP_ID;\n",
    "\n",
    "#Retrieve a list of employees ordered in descending order by department ID and within each department ordered alphabetically in descending order by last name.\n",
    "SELECT F_NAME, L_NAME, DEP_ID \n",
    "FROM EMPLOYEES\n",
    "ORDER BY DEP_ID DESC, L_NAME DESC;\n",
    "\n",
    "#In SQL problem just above, use department name instead of department ID. Retrieve a list of employees ordered by department name, and within each department ordered alphabetically in descending order by last name.\n",
    "SELECT D.DEP_NAME , E.F_NAME, E.L_NAME\n",
    "FROM EMPLOYEES as E, DEPARTMENTS as D\n",
    "WHERE E.DEP_ID = D.DEPT_ID_DEP\n",
    "ORDER BY D.DEP_NAME, E.L_NAME DESC;\n",
    "\n",
    "#For each department ID retrieve the number of employees in the department.\n",
    "SELECT DEP_ID, COUNT(*)\n",
    "FROM EMPLOYEES\n",
    "GROUP BY DEP_ID;\n",
    "\n",
    "#For each department retrieve the number of employees in the department, and the average employee salary in the department..\n",
    "SELECT DEP_ID, COUNT(*), AVG(SALARY)\n",
    "FROM EMPLOYEES\n",
    "GROUP BY DEP_ID;\n",
    "\n",
    "#Label the computed columns in the result set of SQL just above as NUMEMPLOYEES and AVGSALARY.\n",
    "SELECT DEP_ID, COUNT(*) AS \"NUM_EMPLOYEES\", AVG(SALARY) AS \"AVG_SALARY\"\n",
    "FROM EMPLOYEES\n",
    "GROUP BY DEP_ID;\n",
    "\n",
    "\n",
    "SELECT DEP_ID, COUNT(*) AS \"NUM_EMPLOYEES\", AVG(SALARY) AS \"AVG_SALARY\"\n",
    "FROM EMPLOYEES\n",
    "GROUP BY DEP_ID\n",
    "ORDER BY AVG_SALARY;\n",
    "\n",
    "#In SQL just above, limit the result to departments with fewer than 4 employees.\n",
    "SELECT DEP_ID, COUNT(*) AS \"NUM_EMPLOYEES\", AVG(SALARY) AS \"AVG_SALARY\"\n",
    "FROM EMPLOYEES\n",
    "GROUP BY DEP_ID\n",
    "HAVING count(*) < 4\n",
    "ORDER BY AVG_SALARY;"
   ]
  },
  {
   "cell_type": "markdown",
   "id": "016e7281",
   "metadata": {},
   "source": [
    "# Functions"
   ]
  },
  {
   "cell_type": "code",
   "execution_count": null,
   "id": "2a953e3f",
   "metadata": {},
   "outputs": [],
   "source": [
    "select SUM(COST) from PETRESCUE;\n",
    "select SUM(COST) AS SUM_OF_COST from PETRESCUE;\n",
    "select MAX(QUANTITY) from PETRESCUE;\n",
    "select AVG(COST) from PETRESCUE;\n",
    "select AVG(COST/QUANTITY) from PETRESCUE where ANIMAL = 'Dog';\n",
    "select ROUND(COST) from PETRESCUE;\n",
    "select LENGTH(ANIMAL) from PETRESCUE;\n",
    "select UCASE(ANIMAL) from PETRESCUE;\n",
    "select DISTINCT(UCASE(ANIMAL)) from PETRESCUE;\n",
    "select * from PETRESCUE where LCASE(ANIMAL) = 'cat';\n",
    "select DAY(RESCUEDATE) from PETRESCUE where ANIMAL = 'Cat';\n",
    "select SUM(QUANTITY) from PETRESCUE where MONTH(RESCUEDATE)='05';\n",
    "select SUM(QUANTITY) from PETRESCUE where DAY(RESCUEDATE)='14';\n",
    "select DATE_add(RESCUEDATE, INTERVAL 3 DAY) from PETRESCUE;\n",
    "select DATEDIFF(CURRENT_TIMESTAMP,RESCUEDATE) from PETRESCUE;\n",
    "\n",
    "#Execute a failing query (i.e. one which gives an error) to retrieve all employees records whose salary is lower than the average salary.\n",
    "\n",
    "select * \n",
    "from EMPLOYEES \n",
    "where salary < AVG(salary);\n",
    "\n",
    "#Execute a working query using a sub-select to retrieve all employees records whose salary is lower than the average salary.\n",
    "select EMP_ID, F_NAME, L_NAME, SALARY \n",
    "from EMPLOYEES\n",
    "where SALARY < (select AVG(SALARY) \n",
    "                from EMPLOYEES);\n",
    "\n",
    "\n",
    "#Execute a failing query (i.e. one which gives an error) to retrieve all employees records with EMPID, SALARY and maximum salary as MAXSALARY in every row.\n",
    "select EMP_ID, SALARY, MAX(SALARY) AS MAX_SALARY \n",
    "from EMPLOYEES;\n",
    "\n",
    "#Execute a Column Expression that retrieves all employees records with EMPID, SALARY and maximum salary as MAXSALARY in every row.\n",
    "select EMP_ID, SALARY, ( select MAX(SALARY) from EMPLOYEES ) AS MAX_SALARY \n",
    "from EMPLOYEES;\n",
    "\n",
    "\n",
    "#Execute a Table Expression for the EMPLOYEES table that excludes columns with sensitive employee data (i.e. does not include columns: SSN, B_DATE, SEX, ADDRESS, SALARY).\n",
    "select * from ( select EMP_ID, F_NAME, L_NAME, DEP_ID from EMPLOYEES) AS EMP4ALL;\n"
   ]
  }
 ],
 "metadata": {
  "kernelspec": {
   "display_name": "Python 3 (ipykernel)",
   "language": "python",
   "name": "python3"
  },
  "language_info": {
   "codemirror_mode": {
    "name": "ipython",
    "version": 3
   },
   "file_extension": ".py",
   "mimetype": "text/x-python",
   "name": "python",
   "nbconvert_exporter": "python",
   "pygments_lexer": "ipython3",
   "version": "3.9.12"
  }
 },
 "nbformat": 4,
 "nbformat_minor": 5
}
