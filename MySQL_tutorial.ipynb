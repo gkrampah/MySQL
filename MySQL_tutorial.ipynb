{
 "cells": [
  {
   "cell_type": "code",
   "execution_count": 6,
   "id": "aa53205d",
   "metadata": {},
   "outputs": [],
   "source": [
    "import mysql.connector\n",
    "from mysql.connector import Error\n",
    "import pandas as pd"
   ]
  },
  {
   "cell_type": "markdown",
   "id": "7e008f99",
   "metadata": {},
   "source": [
    "## Connect to Server , Create Database and connect to the created database"
   ]
  },
  {
   "cell_type": "code",
   "execution_count": 7,
   "id": "c72d6a48",
   "metadata": {},
   "outputs": [
    {
     "name": "stdout",
     "output_type": "stream",
     "text": [
      "MySQL Database connection successful\n"
     ]
    }
   ],
   "source": [
    "def create_server_connection(host_name, user_name, user_password):\n",
    "    \"\"\"makes a connection to mysql db\"\"\"\n",
    "    connection = None\n",
    "    try:\n",
    "        connection = mysql.connector.connect(\n",
    "            host=host_name,\n",
    "            user=user_name,\n",
    "            passwd=user_password\n",
    "        )\n",
    "        print(\"MySQL Database connection successful\")\n",
    "    except Error as err:\n",
    "        print(f\"Error: '{err}'\")\n",
    "\n",
    "    return connection\n",
    "\n",
    "pw = \"Physag@2013\" # IMPORTANT! Put your MySQL Terminal password here.\n",
    "db = \"hospital\" # This is the name of the database we will create in the next step - call it whatever you like.\n",
    "\n",
    "connection = create_server_connection(\"localhost\", \"root\", pw)"
   ]
  },
  {
   "cell_type": "code",
   "execution_count": 8,
   "id": "b52d08d8",
   "metadata": {},
   "outputs": [
    {
     "name": "stdout",
     "output_type": "stream",
     "text": [
      "Database created successfully\n"
     ]
    }
   ],
   "source": [
    "def create_database(connection, query):\n",
    "    \"\"\"creates the database using the query argument which contains the name of the database\"\"\"\n",
    "    cursor = connection.cursor()\n",
    "    try:\n",
    "        cursor.execute(query)\n",
    "        print(\"Database created successfully\")\n",
    "    except Error as err:\n",
    "        print(f\"Error: '{err}'\")\n",
    "\n",
    "create_database_query = f\"CREATE DATABASE {db}\"\n",
    "create_database(connection, create_database_query)"
   ]
  },
  {
   "cell_type": "code",
   "execution_count": 11,
   "id": "90ae38ab",
   "metadata": {},
   "outputs": [
    {
     "name": "stdout",
     "output_type": "stream",
     "text": [
      "MySQL Database connection successful\n"
     ]
    }
   ],
   "source": [
    "def create_db_connection(host_name, user_name, user_password, db_name):\n",
    "    \"\"\"this function automatically connect to db of interest which we have already created\"\"\"\n",
    "    connection = None\n",
    "    try:\n",
    "        connection = mysql.connector.connect(\n",
    "            host=host_name,\n",
    "            user=user_name,\n",
    "            passwd=user_password,\n",
    "            database=db_name\n",
    "        )\n",
    "        print(\"MySQL Database connection successful\")\n",
    "    except Error as err:\n",
    "        print(f\"Error: '{err}'\")\n",
    "\n",
    "    return connection\n",
    "\n",
    "db = \"hospital\" \n",
    "connection = create_db_connection(\"localhost\", \"root\", pw, db)"
   ]
  },
  {
   "cell_type": "markdown",
   "id": "61a7ea21",
   "metadata": {},
   "source": [
    "## Create tables in the database"
   ]
  },
  {
   "cell_type": "code",
   "execution_count": 13,
   "id": "70ae6109",
   "metadata": {},
   "outputs": [],
   "source": [
    "def execute_query(connection, query):\n",
    "    cursor = connection.cursor()\n",
    "    try:\n",
    "        cursor.execute(query)\n",
    "        connection.commit()\n",
    "        print(\"Query successful\")\n",
    "    except Error as err:\n",
    "        print(f\"Error: '{err}'\")"
   ]
  },
  {
   "cell_type": "code",
   "execution_count": 14,
   "id": "b1600949",
   "metadata": {},
   "outputs": [
    {
     "name": "stdout",
     "output_type": "stream",
     "text": [
      "Query successful\n"
     ]
    }
   ],
   "source": [
    "create_teacher_table = \"\"\"\n",
    "CREATE TABLE doctor (\n",
    "  doctor_id INT PRIMARY KEY,\n",
    "  first_name VARCHAR(40) NOT NULL,\n",
    "  last_name VARCHAR(40) NOT NULL,\n",
    "  language_1 VARCHAR(3) NOT NULL,\n",
    "  language_2 VARCHAR(3),\n",
    "  dob DATE,\n",
    "  tax_id INT UNIQUE,\n",
    "  phone_no VARCHAR(20)\n",
    "  );\n",
    " \"\"\"\n",
    "\n",
    "execute_query(connection, create_teacher_table) # Execute our defined query\n",
    "#Use the command in the terminal to probe the table : SHOW TABLES"
   ]
  },
  {
   "cell_type": "code",
   "execution_count": 15,
   "id": "768b90d2",
   "metadata": {},
   "outputs": [
    {
     "name": "stdout",
     "output_type": "stream",
     "text": [
      "MySQL Database connection successful\n",
      "Query successful\n",
      "Query successful\n",
      "Query successful\n"
     ]
    }
   ],
   "source": [
    "create_client_table = \"\"\"\n",
    "CREATE TABLE client (\n",
    "  client_id INT PRIMARY KEY,\n",
    "  client_name VARCHAR(40) NOT NULL,\n",
    "  address VARCHAR(60) NOT NULL,\n",
    "  industry VARCHAR(20)\n",
    ");\n",
    " \"\"\"\n",
    "\n",
    "create_participant_table = \"\"\"\n",
    "CREATE TABLE participant (\n",
    "  participant_id INT PRIMARY KEY,\n",
    "  first_name VARCHAR(40) NOT NULL,\n",
    "  last_name VARCHAR(40) NOT NULL,\n",
    "  phone_no VARCHAR(20),\n",
    "  client INT\n",
    ");\n",
    "\"\"\"\n",
    "\n",
    "create_course_table = \"\"\"\n",
    "CREATE TABLE course (\n",
    "  course_id INT PRIMARY KEY,\n",
    "  course_name VARCHAR(40) NOT NULL,\n",
    "  language VARCHAR(3) NOT NULL,\n",
    "  level VARCHAR(2),\n",
    "  course_length_weeks INT,\n",
    "  start_date DATE,\n",
    "  in_school BOOLEAN,\n",
    "  teacher INT,\n",
    "  client INT\n",
    ");\n",
    "\"\"\"\n",
    "\n",
    "\n",
    "connection = create_db_connection(\"localhost\", \"root\", pw, db)\n",
    "execute_query(connection, create_client_table)\n",
    "execute_query(connection, create_participant_table)\n",
    "execute_query(connection, create_course_table)"
   ]
  },
  {
   "cell_type": "code",
   "execution_count": 17,
   "id": "63dcdb56",
   "metadata": {},
   "outputs": [
    {
     "name": "stdout",
     "output_type": "stream",
     "text": [
      "Query successful\n"
     ]
    }
   ],
   "source": [
    "create_composite = \"\"\"CREATE TABLE takes_course (\n",
    "  participant_id INT,\n",
    "  course_id INT,\n",
    "  PRIMARY KEY(participant_id, course_id),\n",
    "  FOREIGN KEY(participant_id) REFERENCES participant(participant_id) ON DELETE CASCADE,\n",
    "  FOREIGN KEY(course_id) REFERENCES course(course_id) ON DELETE CASCADE\n",
    ");\"\"\"\n",
    "\n",
    "execute_query(connection, create_composite)"
   ]
  },
  {
   "cell_type": "code",
   "execution_count": 16,
   "id": "bda15d6f",
   "metadata": {},
   "outputs": [
    {
     "name": "stdout",
     "output_type": "stream",
     "text": [
      "MySQL Database connection successful\n",
      "Query successful\n",
      "Query successful\n",
      "Query successful\n",
      "Query successful\n",
      "Error: '1146 (42S02): Table 'hospital.takes_course' doesn't exist'\n"
     ]
    }
   ],
   "source": [
    "pop_doctor = \"\"\"\n",
    "INSERT INTO doctor VALUES\n",
    "(1,  'James', 'Smith', 'ENG', NULL, '1985-04-20', 12345, '+491774553676'),\n",
    "(2, 'Stefanie',  'Martin',  'FRA', NULL,  '1970-02-17', 23456, '+491234567890'), \n",
    "(3, 'Steve', 'Wang',  'MAN', 'ENG', '1990-11-12', 34567, '+447840921333'),\n",
    "(4, 'Friederike',  'Müller-Rossi', 'DEU', 'ITA', '1987-07-07',  45678, '+492345678901'),\n",
    "(5, 'Isobel', 'Ivanova', 'RUS', 'ENG', '1963-05-30',  56789, '+491772635467'),\n",
    "(6, 'Niamh', 'Murphy', 'ENG', 'IRI', '1995-09-08',  67890, '+491231231232');\n",
    "\"\"\"\n",
    "pop_client = \"\"\"\n",
    "INSERT INTO client VALUES\n",
    "(101, 'Big Business Federation', '123 Falschungstraße, 10999 Berlin', 'NGO'),\n",
    "(102, 'eCommerce GmbH', '27 Ersatz Allee, 10317 Berlin', 'Retail'),\n",
    "(103, 'AutoMaker AG',  '20 Künstlichstraße, 10023 Berlin', 'Auto'),\n",
    "(104, 'Banko Bank',  '12 Betrugstraße, 12345 Berlin', 'Banking'),\n",
    "(105, 'WeMoveIt GmbH', '138 Arglistweg, 10065 Berlin', 'Logistics');\n",
    "\"\"\"\n",
    "\n",
    "pop_participant = \"\"\"\n",
    "INSERT INTO participant VALUES\n",
    "(101, 'Marina', 'Berg','491635558182', 101),\n",
    "(102, 'Andrea', 'Duerr', '49159555740', 101),\n",
    "(103, 'Philipp', 'Probst',  '49155555692', 102),\n",
    "(104, 'René',  'Brandt',  '4916355546',  102),\n",
    "(105, 'Susanne', 'Shuster', '49155555779', 102),\n",
    "(106, 'Christian', 'Schreiner', '49162555375', 101),\n",
    "(107, 'Harry', 'Kim', '49177555633', 101),\n",
    "(108, 'Jan', 'Nowak', '49151555824', 101),\n",
    "(109, 'Pablo', 'Garcia',  '49162555176', 101),\n",
    "(110, 'Melanie', 'Dreschler', '49151555527', 103),\n",
    "(111, 'Dieter', 'Durr',  '49178555311', 103),\n",
    "(112, 'Max', 'Mustermann', '49152555195', 104),\n",
    "(113, 'Maxine', 'Mustermann', '49177555355', 104),\n",
    "(114, 'Heiko', 'Fleischer', '49155555581', 105);\n",
    "\"\"\"\n",
    "\n",
    "pop_course = \"\"\"\n",
    "INSERT INTO course VALUES\n",
    "(12, 'English for Logistics', 'ENG', 'A1', 10, '2020-02-01', TRUE,  1, 105),\n",
    "(13, 'Beginner English', 'ENG', 'A2', 40, '2019-11-12',  FALSE, 6, 101),\n",
    "(14, 'Intermediate English', 'ENG', 'B2', 40, '2019-11-12', FALSE, 6, 101),\n",
    "(15, 'Advanced English', 'ENG', 'C1', 40, '2019-11-12', FALSE, 6, 101),\n",
    "(16, 'Mandarin für Autoindustrie', 'MAN', 'B1', 15, '2020-01-15', TRUE, 3, 103),\n",
    "(17, 'Français intermédiaire', 'FRA', 'B1',  18, '2020-04-03', FALSE, 2, 101),\n",
    "(18, 'Deutsch für Anfänger', 'DEU', 'A2', 8, '2020-02-14', TRUE, 4, 102),\n",
    "(19, 'Intermediate English', 'ENG', 'B2', 10, '2020-03-29', FALSE, 1, 104),\n",
    "(20, 'Fortgeschrittenes Russisch', 'RUS', 'C1',  4, '2020-04-08',  FALSE, 5, 103);\n",
    "\"\"\"\n",
    "\n",
    "pop_takescourse = \"\"\"\n",
    "INSERT INTO takes_course VALUES\n",
    "(101, 15),\n",
    "(101, 17),\n",
    "(102, 17),\n",
    "(103, 18),\n",
    "(104, 18),\n",
    "(105, 18),\n",
    "(106, 13),\n",
    "(107, 13),\n",
    "(108, 13),\n",
    "(109, 14),\n",
    "(109, 15),\n",
    "(110, 16),\n",
    "(110, 20),\n",
    "(111, 16),\n",
    "(114, 12),\n",
    "(112, 19),\n",
    "(113, 19);\n",
    "\"\"\"\n",
    "\n",
    "connection = create_db_connection(\"localhost\", \"root\", pw, db)\n",
    "execute_query(connection, pop_doctor)\n",
    "execute_query(connection, pop_client)\n",
    "execute_query(connection, pop_participant)\n",
    "execute_query(connection, pop_course)\n"
   ]
  },
  {
   "cell_type": "code",
   "execution_count": 18,
   "id": "0eac329d",
   "metadata": {},
   "outputs": [
    {
     "name": "stdout",
     "output_type": "stream",
     "text": [
      "Query successful\n"
     ]
    }
   ],
   "source": [
    "execute_query(connection, pop_takescourse)"
   ]
  },
  {
   "cell_type": "code",
   "execution_count": null,
   "id": "ac34e2ed",
   "metadata": {},
   "outputs": [],
   "source": [
    "# to view the tables use the: SELECT * FROM doctor; or SELECT * FROM course; or SELECT last_name, dob FROM doctor;\n",
    "\n",
    "#with condition use: SELECT * FROM course WHERE language = 'ENG'; or SELECT * FROM course WHERE language = 'ENG'ORDER BY start_date;\n",
    "\n",
    "#with operators: SELECT * FROM course WHERE language = 'ENG' AND level = 'C1'; or SELECT * FROM course WHERE language = 'ENG' OR level = 'C1';\n",
    "\n",
    "#SELECT first_name, last_name, phone_no FROM teacher WHERE dob < '1990-01-01';"
   ]
  }
 ],
 "metadata": {
  "kernelspec": {
   "display_name": "Python 3 (ipykernel)",
   "language": "python",
   "name": "python3"
  },
  "language_info": {
   "codemirror_mode": {
    "name": "ipython",
    "version": 3
   },
   "file_extension": ".py",
   "mimetype": "text/x-python",
   "name": "python",
   "nbconvert_exporter": "python",
   "pygments_lexer": "ipython3",
   "version": "3.9.12"
  }
 },
 "nbformat": 4,
 "nbformat_minor": 5
}
